{
 "cells": [
  {
   "cell_type": "code",
   "execution_count": 1,
   "id": "7f25c694-f6d1-46e9-96bb-d5c2e77461bb",
   "metadata": {},
   "outputs": [],
   "source": [
    "import numpy as np\n",
    "import pandas as pd\n",
    "import matplotlib.pyplot as plt"
   ]
  },
  {
   "cell_type": "code",
   "execution_count": 2,
   "id": "5f60a2d6-82e7-4c66-bb1b-d988b1a0ac2b",
   "metadata": {},
   "outputs": [],
   "source": [
    "data=pd.read_csv('../artifacts/sentiment_analysis.csv')"
   ]
  },
  {
   "cell_type": "code",
   "execution_count": 3,
   "id": "309c95ff-6bf5-4a68-92f1-74eea9dff56b",
   "metadata": {},
   "outputs": [
    {
     "data": {
      "text/html": [
       "<div>\n",
       "<style scoped>\n",
       "    .dataframe tbody tr th:only-of-type {\n",
       "        vertical-align: middle;\n",
       "    }\n",
       "\n",
       "    .dataframe tbody tr th {\n",
       "        vertical-align: top;\n",
       "    }\n",
       "\n",
       "    .dataframe thead th {\n",
       "        text-align: right;\n",
       "    }\n",
       "</style>\n",
       "<table border=\"1\" class=\"dataframe\">\n",
       "  <thead>\n",
       "    <tr style=\"text-align: right;\">\n",
       "      <th></th>\n",
       "      <th>id</th>\n",
       "      <th>label</th>\n",
       "      <th>tweet</th>\n",
       "    </tr>\n",
       "  </thead>\n",
       "  <tbody>\n",
       "    <tr>\n",
       "      <th>4345</th>\n",
       "      <td>4346</td>\n",
       "      <td>0</td>\n",
       "      <td>Looooove my new phone. First photo on my samsu...</td>\n",
       "    </tr>\n",
       "    <tr>\n",
       "      <th>6975</th>\n",
       "      <td>6976</td>\n",
       "      <td>0</td>\n",
       "      <td>My new friends now #Samsung #Note #Instalike #...</td>\n",
       "    </tr>\n",
       "    <tr>\n",
       "      <th>4553</th>\n",
       "      <td>4554</td>\n",
       "      <td>0</td>\n",
       "      <td>Flash is bright! #family #friends #beauty #fun...</td>\n",
       "    </tr>\n",
       "    <tr>\n",
       "      <th>670</th>\n",
       "      <td>671</td>\n",
       "      <td>0</td>\n",
       "      <td>Me, Myself &amp; I #Mumbai #life #walk #instalove ...</td>\n",
       "    </tr>\n",
       "    <tr>\n",
       "      <th>6388</th>\n",
       "      <td>6389</td>\n",
       "      <td>0</td>\n",
       "      <td>Work with what you have and the rest will fall...</td>\n",
       "    </tr>\n",
       "  </tbody>\n",
       "</table>\n",
       "</div>"
      ],
      "text/plain": [
       "        id  label                                              tweet\n",
       "4345  4346      0  Looooove my new phone. First photo on my samsu...\n",
       "6975  6976      0  My new friends now #Samsung #Note #Instalike #...\n",
       "4553  4554      0  Flash is bright! #family #friends #beauty #fun...\n",
       "670    671      0  Me, Myself & I #Mumbai #life #walk #instalove ...\n",
       "6388  6389      0  Work with what you have and the rest will fall..."
      ]
     },
     "execution_count": 3,
     "metadata": {},
     "output_type": "execute_result"
    }
   ],
   "source": [
    "data.sample(5)"
   ]
  },
  {
   "cell_type": "markdown",
   "id": "c753cddc-fcf4-489d-a9e1-5d65940f3368",
   "metadata": {},
   "source": [
    "## Data Preprocessing for tweet attribute"
   ]
  },
  {
   "cell_type": "code",
   "execution_count": 4,
   "id": "c0bcc31b-c961-445b-afd8-7036e8b77da6",
   "metadata": {},
   "outputs": [
    {
     "data": {
      "text/plain": [
       "(7920, 3)"
      ]
     },
     "execution_count": 4,
     "metadata": {},
     "output_type": "execute_result"
    }
   ],
   "source": [
    "data.shape"
   ]
  },
  {
   "cell_type": "code",
   "execution_count": 5,
   "id": "14a08a09-36a7-4df7-93d6-0a1585bf1a61",
   "metadata": {},
   "outputs": [
    {
     "data": {
      "text/plain": [
       "np.int64(0)"
      ]
     },
     "execution_count": 5,
     "metadata": {},
     "output_type": "execute_result"
    }
   ],
   "source": [
    "data.duplicated().sum()  #duplicated values checking"
   ]
  },
  {
   "cell_type": "code",
   "execution_count": 6,
   "id": "9f62d6f2-a2b0-4885-9e4e-3076e4c222e7",
   "metadata": {},
   "outputs": [
    {
     "data": {
      "text/plain": [
       "id       0\n",
       "label    0\n",
       "tweet    0\n",
       "dtype: int64"
      ]
     },
     "execution_count": 6,
     "metadata": {},
     "output_type": "execute_result"
    }
   ],
   "source": [
    "data.isnull().sum()     #Null values checking"
   ]
  },
  {
   "cell_type": "markdown",
   "id": "2ffa9d91-f837-432c-873a-449239a8218e",
   "metadata": {},
   "source": [
    "### tweet preprocessing with removing unrelevant links, numbers, symbols to handle whether the possibilty of positive or negative"
   ]
  },
  {
   "cell_type": "code",
   "execution_count": 7,
   "id": "27c70351-67f4-4c0d-beb4-243482132e3f",
   "metadata": {},
   "outputs": [],
   "source": [
    "import re    #Regular expression library\n",
    "import string"
   ]
  },
  {
   "cell_type": "code",
   "execution_count": 8,
   "id": "155803f8-1a67-43ea-abfe-43b1c1e737e4",
   "metadata": {},
   "outputs": [],
   "source": [
    "#convert all upercase data to lowercase data\n",
    "\n",
    "\n",
    "data['tweet']=data['tweet'].apply(lambda x: \" \" .join(x.lower() for x in x.split()))"
   ]
  },
  {
   "cell_type": "code",
   "execution_count": 9,
   "id": "719428f9-842c-434a-8e3a-4103617da188",
   "metadata": {},
   "outputs": [
    {
     "data": {
      "text/html": [
       "<div>\n",
       "<style scoped>\n",
       "    .dataframe tbody tr th:only-of-type {\n",
       "        vertical-align: middle;\n",
       "    }\n",
       "\n",
       "    .dataframe tbody tr th {\n",
       "        vertical-align: top;\n",
       "    }\n",
       "\n",
       "    .dataframe thead th {\n",
       "        text-align: right;\n",
       "    }\n",
       "</style>\n",
       "<table border=\"1\" class=\"dataframe\">\n",
       "  <thead>\n",
       "    <tr style=\"text-align: right;\">\n",
       "      <th></th>\n",
       "      <th>id</th>\n",
       "      <th>label</th>\n",
       "      <th>tweet</th>\n",
       "    </tr>\n",
       "  </thead>\n",
       "  <tbody>\n",
       "    <tr>\n",
       "      <th>0</th>\n",
       "      <td>1</td>\n",
       "      <td>0</td>\n",
       "      <td>#fingerprint #pregnancy test https://goo.gl/h1...</td>\n",
       "    </tr>\n",
       "    <tr>\n",
       "      <th>1</th>\n",
       "      <td>2</td>\n",
       "      <td>0</td>\n",
       "      <td>finally a transparant silicon case ^^ thanks t...</td>\n",
       "    </tr>\n",
       "    <tr>\n",
       "      <th>2</th>\n",
       "      <td>3</td>\n",
       "      <td>0</td>\n",
       "      <td>we love this! would you go? #talk #makememorie...</td>\n",
       "    </tr>\n",
       "    <tr>\n",
       "      <th>3</th>\n",
       "      <td>4</td>\n",
       "      <td>0</td>\n",
       "      <td>i'm wired i know i'm george i was made that wa...</td>\n",
       "    </tr>\n",
       "    <tr>\n",
       "      <th>4</th>\n",
       "      <td>5</td>\n",
       "      <td>1</td>\n",
       "      <td>what amazing service! apple won't even talk to...</td>\n",
       "    </tr>\n",
       "  </tbody>\n",
       "</table>\n",
       "</div>"
      ],
      "text/plain": [
       "   id  label                                              tweet\n",
       "0   1      0  #fingerprint #pregnancy test https://goo.gl/h1...\n",
       "1   2      0  finally a transparant silicon case ^^ thanks t...\n",
       "2   3      0  we love this! would you go? #talk #makememorie...\n",
       "3   4      0  i'm wired i know i'm george i was made that wa...\n",
       "4   5      1  what amazing service! apple won't even talk to..."
      ]
     },
     "execution_count": 9,
     "metadata": {},
     "output_type": "execute_result"
    }
   ],
   "source": [
    "data.head(5)"
   ]
  },
  {
   "cell_type": "code",
   "execution_count": 10,
   "id": "c6b207c2-68c3-4854-970a-8fdbed1343f1",
   "metadata": {},
   "outputs": [],
   "source": [
    "#Remove links \n",
    "\n",
    "import re\n",
    "import string\n",
    "\n",
    "data['tweet'] = data['tweet'].apply(lambda x: \" \".join(re.sub(r'https?://\\S+', '', word) for word in x.split()))"
   ]
  },
  {
   "cell_type": "code",
   "execution_count": 11,
   "id": "4863af28-0c67-4207-83e8-587b05e1f441",
   "metadata": {},
   "outputs": [
    {
     "data": {
      "text/html": [
       "<div>\n",
       "<style scoped>\n",
       "    .dataframe tbody tr th:only-of-type {\n",
       "        vertical-align: middle;\n",
       "    }\n",
       "\n",
       "    .dataframe tbody tr th {\n",
       "        vertical-align: top;\n",
       "    }\n",
       "\n",
       "    .dataframe thead th {\n",
       "        text-align: right;\n",
       "    }\n",
       "</style>\n",
       "<table border=\"1\" class=\"dataframe\">\n",
       "  <thead>\n",
       "    <tr style=\"text-align: right;\">\n",
       "      <th></th>\n",
       "      <th>id</th>\n",
       "      <th>label</th>\n",
       "      <th>tweet</th>\n",
       "    </tr>\n",
       "  </thead>\n",
       "  <tbody>\n",
       "    <tr>\n",
       "      <th>0</th>\n",
       "      <td>1</td>\n",
       "      <td>0</td>\n",
       "      <td>#fingerprint #pregnancy test  #android #apps #...</td>\n",
       "    </tr>\n",
       "    <tr>\n",
       "      <th>1</th>\n",
       "      <td>2</td>\n",
       "      <td>0</td>\n",
       "      <td>finally a transparant silicon case ^^ thanks t...</td>\n",
       "    </tr>\n",
       "    <tr>\n",
       "      <th>2</th>\n",
       "      <td>3</td>\n",
       "      <td>0</td>\n",
       "      <td>we love this! would you go? #talk #makememorie...</td>\n",
       "    </tr>\n",
       "    <tr>\n",
       "      <th>3</th>\n",
       "      <td>4</td>\n",
       "      <td>0</td>\n",
       "      <td>i'm wired i know i'm george i was made that wa...</td>\n",
       "    </tr>\n",
       "    <tr>\n",
       "      <th>4</th>\n",
       "      <td>5</td>\n",
       "      <td>1</td>\n",
       "      <td>what amazing service! apple won't even talk to...</td>\n",
       "    </tr>\n",
       "  </tbody>\n",
       "</table>\n",
       "</div>"
      ],
      "text/plain": [
       "   id  label                                              tweet\n",
       "0   1      0  #fingerprint #pregnancy test  #android #apps #...\n",
       "1   2      0  finally a transparant silicon case ^^ thanks t...\n",
       "2   3      0  we love this! would you go? #talk #makememorie...\n",
       "3   4      0  i'm wired i know i'm george i was made that wa...\n",
       "4   5      1  what amazing service! apple won't even talk to..."
      ]
     },
     "execution_count": 11,
     "metadata": {},
     "output_type": "execute_result"
    }
   ],
   "source": [
    "data.head(5)"
   ]
  },
  {
   "cell_type": "code",
   "execution_count": 12,
   "id": "b69de119-ba1c-4e56-ba09-f5f9c8d4d57a",
   "metadata": {},
   "outputs": [
    {
     "data": {
      "text/plain": [
       "'!\"#$%&\\'()*+,-./:;<=>?@[\\\\]^_`{|}~'"
      ]
     },
     "execution_count": 12,
     "metadata": {},
     "output_type": "execute_result"
    }
   ],
   "source": [
    "string.punctuation"
   ]
  },
  {
   "cell_type": "code",
   "execution_count": 13,
   "id": "be943705-4a9e-4a22-aaac-53193307b1e8",
   "metadata": {},
   "outputs": [],
   "source": [
    "#Remove punctuation marks\n",
    "\n",
    "def removePunc(text):\n",
    "    for punc in string.punctuation:\n",
    "        text=text.replace(punc,' ')\n",
    "    return text\n",
    "\n",
    "\n",
    "data['tweet'] = data['tweet'].apply(removePunc)"
   ]
  },
  {
   "cell_type": "code",
   "execution_count": 14,
   "id": "50d87311-3016-4514-9db1-7501738dab12",
   "metadata": {},
   "outputs": [
    {
     "data": {
      "text/html": [
       "<div>\n",
       "<style scoped>\n",
       "    .dataframe tbody tr th:only-of-type {\n",
       "        vertical-align: middle;\n",
       "    }\n",
       "\n",
       "    .dataframe tbody tr th {\n",
       "        vertical-align: top;\n",
       "    }\n",
       "\n",
       "    .dataframe thead th {\n",
       "        text-align: right;\n",
       "    }\n",
       "</style>\n",
       "<table border=\"1\" class=\"dataframe\">\n",
       "  <thead>\n",
       "    <tr style=\"text-align: right;\">\n",
       "      <th></th>\n",
       "      <th>id</th>\n",
       "      <th>label</th>\n",
       "      <th>tweet</th>\n",
       "    </tr>\n",
       "  </thead>\n",
       "  <tbody>\n",
       "    <tr>\n",
       "      <th>0</th>\n",
       "      <td>1</td>\n",
       "      <td>0</td>\n",
       "      <td>fingerprint  pregnancy test   android  apps  ...</td>\n",
       "    </tr>\n",
       "    <tr>\n",
       "      <th>1</th>\n",
       "      <td>2</td>\n",
       "      <td>0</td>\n",
       "      <td>finally a transparant silicon case    thanks t...</td>\n",
       "    </tr>\n",
       "    <tr>\n",
       "      <th>2</th>\n",
       "      <td>3</td>\n",
       "      <td>0</td>\n",
       "      <td>we love this  would you go   talk  makememorie...</td>\n",
       "    </tr>\n",
       "    <tr>\n",
       "      <th>3</th>\n",
       "      <td>4</td>\n",
       "      <td>0</td>\n",
       "      <td>i m wired i know i m george i was made that wa...</td>\n",
       "    </tr>\n",
       "    <tr>\n",
       "      <th>4</th>\n",
       "      <td>5</td>\n",
       "      <td>1</td>\n",
       "      <td>what amazing service  apple won t even talk to...</td>\n",
       "    </tr>\n",
       "  </tbody>\n",
       "</table>\n",
       "</div>"
      ],
      "text/plain": [
       "   id  label                                              tweet\n",
       "0   1      0   fingerprint  pregnancy test   android  apps  ...\n",
       "1   2      0  finally a transparant silicon case    thanks t...\n",
       "2   3      0  we love this  would you go   talk  makememorie...\n",
       "3   4      0  i m wired i know i m george i was made that wa...\n",
       "4   5      1  what amazing service  apple won t even talk to..."
      ]
     },
     "execution_count": 14,
     "metadata": {},
     "output_type": "execute_result"
    }
   ],
   "source": [
    "data.head(5)"
   ]
  },
  {
   "cell_type": "code",
   "execution_count": 15,
   "id": "435d14a9-56aa-4a15-bff4-5fe515b625e6",
   "metadata": {},
   "outputs": [
    {
     "name": "stderr",
     "output_type": "stream",
     "text": [
      "<>:3: SyntaxWarning: invalid escape sequence '\\d'\n",
      "<>:3: SyntaxWarning: invalid escape sequence '\\d'\n",
      "C:\\Users\\User\\AppData\\Local\\Temp\\ipykernel_20220\\433443517.py:3: SyntaxWarning: invalid escape sequence '\\d'\n",
      "  data['tweet'] = data['tweet'].str.replace('\\d+',\"\",regex=True)\n"
     ]
    },
    {
     "data": {
      "text/html": [
       "<div>\n",
       "<style scoped>\n",
       "    .dataframe tbody tr th:only-of-type {\n",
       "        vertical-align: middle;\n",
       "    }\n",
       "\n",
       "    .dataframe tbody tr th {\n",
       "        vertical-align: top;\n",
       "    }\n",
       "\n",
       "    .dataframe thead th {\n",
       "        text-align: right;\n",
       "    }\n",
       "</style>\n",
       "<table border=\"1\" class=\"dataframe\">\n",
       "  <thead>\n",
       "    <tr style=\"text-align: right;\">\n",
       "      <th></th>\n",
       "      <th>id</th>\n",
       "      <th>label</th>\n",
       "      <th>tweet</th>\n",
       "    </tr>\n",
       "  </thead>\n",
       "  <tbody>\n",
       "    <tr>\n",
       "      <th>1255</th>\n",
       "      <td>1256</td>\n",
       "      <td>0</td>\n",
       "      <td>my new phone arrives in a couple of days     e...</td>\n",
       "    </tr>\n",
       "    <tr>\n",
       "      <th>7181</th>\n",
       "      <td>7182</td>\n",
       "      <td>1</td>\n",
       "      <td>having a mini heart attack when my phone neede...</td>\n",
       "    </tr>\n",
       "    <tr>\n",
       "      <th>6748</th>\n",
       "      <td>6749</td>\n",
       "      <td>0</td>\n",
       "      <td>simone in love with gelato’s mountain  gelato ...</td>\n",
       "    </tr>\n",
       "    <tr>\n",
       "      <th>5350</th>\n",
       "      <td>5351</td>\n",
       "      <td>1</td>\n",
       "      <td>wtf  all my apps just randomly fucking deletin...</td>\n",
       "    </tr>\n",
       "    <tr>\n",
       "      <th>7068</th>\n",
       "      <td>7069</td>\n",
       "      <td>1</td>\n",
       "      <td>enkymion apple has lost iphone naming rights ...</td>\n",
       "    </tr>\n",
       "  </tbody>\n",
       "</table>\n",
       "</div>"
      ],
      "text/plain": [
       "        id  label                                              tweet\n",
       "1255  1256      0  my new phone arrives in a couple of days     e...\n",
       "7181  7182      1  having a mini heart attack when my phone neede...\n",
       "6748  6749      0  simone in love with gelato’s mountain  gelato ...\n",
       "5350  5351      1  wtf  all my apps just randomly fucking deletin...\n",
       "7068  7069      1   enkymion apple has lost iphone naming rights ..."
      ]
     },
     "execution_count": 15,
     "metadata": {},
     "output_type": "execute_result"
    }
   ],
   "source": [
    "#remove numbers\n",
    "\n",
    "data['tweet'] = data['tweet'].str.replace('\\d+',\"\",regex=True)\n",
    "data.sample(5)"
   ]
  },
  {
   "cell_type": "code",
   "execution_count": 16,
   "id": "421c37b1-fa50-45e6-85a1-55b59cb43876",
   "metadata": {},
   "outputs": [],
   "source": [
    "#remove stopwords -: so,I,and,then,why........."
   ]
  },
  {
   "cell_type": "code",
   "execution_count": 17,
   "id": "84e2db0a-6182-417d-b5d3-f4f184c3dfcc",
   "metadata": {},
   "outputs": [
    {
     "name": "stdout",
     "output_type": "stream",
     "text": [
      "Requirement already satisfied: nltk in c:\\users\\user\\appdata\\local\\programs\\python\\python312\\lib\\site-packages (3.9.1)\n",
      "Requirement already satisfied: click in c:\\users\\user\\appdata\\local\\programs\\python\\python312\\lib\\site-packages (from nltk) (8.1.8)\n",
      "Requirement already satisfied: joblib in c:\\users\\user\\appdata\\local\\programs\\python\\python312\\lib\\site-packages (from nltk) (1.4.2)\n",
      "Requirement already satisfied: regex>=2021.8.3 in c:\\users\\user\\appdata\\local\\programs\\python\\python312\\lib\\site-packages (from nltk) (2024.11.6)\n",
      "Requirement already satisfied: tqdm in c:\\users\\user\\appdata\\local\\programs\\python\\python312\\lib\\site-packages (from nltk) (4.67.1)\n",
      "Requirement already satisfied: colorama in c:\\users\\user\\appdata\\local\\programs\\python\\python312\\lib\\site-packages (from click->nltk) (0.4.6)\n"
     ]
    }
   ],
   "source": [
    "#install natural language tool kit\n",
    "\n",
    "!pip install nltk"
   ]
  },
  {
   "cell_type": "code",
   "execution_count": 18,
   "id": "531c7137-3708-4ab3-bfc1-3ec721c77616",
   "metadata": {},
   "outputs": [
    {
     "name": "stderr",
     "output_type": "stream",
     "text": [
      "[nltk_data] Downloading package stopwords to ../static/model...\n",
      "[nltk_data]   Unzipping corpora\\stopwords.zip.\n"
     ]
    },
    {
     "data": {
      "text/plain": [
       "True"
      ]
     },
     "execution_count": 18,
     "metadata": {},
     "output_type": "execute_result"
    }
   ],
   "source": [
    "import nltk\n",
    "\n",
    "nltk.download('stopwords',download_dir='../static/model')   #download already categorized stopwords dataset into machine"
   ]
  },
  {
   "cell_type": "code",
   "execution_count": 19,
   "id": "0af1db1b-458e-44aa-a0e5-49ce5b85c9df",
   "metadata": {},
   "outputs": [],
   "source": [
    "with open('../static/model/corpora/stopwords/english','r') as stp:  #get stopwords into a list\n",
    "    sw=stp.read().splitlines()"
   ]
  },
  {
   "cell_type": "code",
   "execution_count": 20,
   "id": "c448f0a3-35e3-4968-9217-b2089c6b9428",
   "metadata": {},
   "outputs": [
    {
     "data": {
      "text/plain": [
       "['i',\n",
       " 'me',\n",
       " 'my',\n",
       " 'myself',\n",
       " 'we',\n",
       " 'our',\n",
       " 'ours',\n",
       " 'ourselves',\n",
       " 'you',\n",
       " \"you're\",\n",
       " \"you've\",\n",
       " \"you'll\",\n",
       " \"you'd\",\n",
       " 'your',\n",
       " 'yours',\n",
       " 'yourself',\n",
       " 'yourselves',\n",
       " 'he',\n",
       " 'him',\n",
       " 'his',\n",
       " 'himself',\n",
       " 'she',\n",
       " \"she's\",\n",
       " 'her',\n",
       " 'hers',\n",
       " 'herself',\n",
       " 'it',\n",
       " \"it's\",\n",
       " 'its',\n",
       " 'itself',\n",
       " 'they',\n",
       " 'them',\n",
       " 'their',\n",
       " 'theirs',\n",
       " 'themselves',\n",
       " 'what',\n",
       " 'which',\n",
       " 'who',\n",
       " 'whom',\n",
       " 'this',\n",
       " 'that',\n",
       " \"that'll\",\n",
       " 'these',\n",
       " 'those',\n",
       " 'am',\n",
       " 'is',\n",
       " 'are',\n",
       " 'was',\n",
       " 'were',\n",
       " 'be',\n",
       " 'been',\n",
       " 'being',\n",
       " 'have',\n",
       " 'has',\n",
       " 'had',\n",
       " 'having',\n",
       " 'do',\n",
       " 'does',\n",
       " 'did',\n",
       " 'doing',\n",
       " 'a',\n",
       " 'an',\n",
       " 'the',\n",
       " 'and',\n",
       " 'but',\n",
       " 'if',\n",
       " 'or',\n",
       " 'because',\n",
       " 'as',\n",
       " 'until',\n",
       " 'while',\n",
       " 'of',\n",
       " 'at',\n",
       " 'by',\n",
       " 'for',\n",
       " 'with',\n",
       " 'about',\n",
       " 'against',\n",
       " 'between',\n",
       " 'into',\n",
       " 'through',\n",
       " 'during',\n",
       " 'before',\n",
       " 'after',\n",
       " 'above',\n",
       " 'below',\n",
       " 'to',\n",
       " 'from',\n",
       " 'up',\n",
       " 'down',\n",
       " 'in',\n",
       " 'out',\n",
       " 'on',\n",
       " 'off',\n",
       " 'over',\n",
       " 'under',\n",
       " 'again',\n",
       " 'further',\n",
       " 'then',\n",
       " 'once',\n",
       " 'here',\n",
       " 'there',\n",
       " 'when',\n",
       " 'where',\n",
       " 'why',\n",
       " 'how',\n",
       " 'all',\n",
       " 'any',\n",
       " 'both',\n",
       " 'each',\n",
       " 'few',\n",
       " 'more',\n",
       " 'most',\n",
       " 'other',\n",
       " 'some',\n",
       " 'such',\n",
       " 'no',\n",
       " 'nor',\n",
       " 'not',\n",
       " 'only',\n",
       " 'own',\n",
       " 'same',\n",
       " 'so',\n",
       " 'than',\n",
       " 'too',\n",
       " 'very',\n",
       " 's',\n",
       " 't',\n",
       " 'can',\n",
       " 'will',\n",
       " 'just',\n",
       " 'don',\n",
       " \"don't\",\n",
       " 'should',\n",
       " \"should've\",\n",
       " 'now',\n",
       " 'd',\n",
       " 'll',\n",
       " 'm',\n",
       " 'o',\n",
       " 're',\n",
       " 've',\n",
       " 'y',\n",
       " 'ain',\n",
       " 'aren',\n",
       " \"aren't\",\n",
       " 'couldn',\n",
       " \"couldn't\",\n",
       " 'didn',\n",
       " \"didn't\",\n",
       " 'doesn',\n",
       " \"doesn't\",\n",
       " 'hadn',\n",
       " \"hadn't\",\n",
       " 'hasn',\n",
       " \"hasn't\",\n",
       " 'haven',\n",
       " \"haven't\",\n",
       " 'isn',\n",
       " \"isn't\",\n",
       " 'ma',\n",
       " 'mightn',\n",
       " \"mightn't\",\n",
       " 'mustn',\n",
       " \"mustn't\",\n",
       " 'needn',\n",
       " \"needn't\",\n",
       " 'shan',\n",
       " \"shan't\",\n",
       " 'shouldn',\n",
       " \"shouldn't\",\n",
       " 'wasn',\n",
       " \"wasn't\",\n",
       " 'weren',\n",
       " \"weren't\",\n",
       " 'won',\n",
       " \"won't\",\n",
       " 'wouldn',\n",
       " \"wouldn't\"]"
      ]
     },
     "execution_count": 20,
     "metadata": {},
     "output_type": "execute_result"
    }
   ],
   "source": [
    "sw"
   ]
  },
  {
   "cell_type": "code",
   "execution_count": 21,
   "id": "f8280388-f0e5-4b1d-8212-dd3714df68b2",
   "metadata": {},
   "outputs": [],
   "source": [
    "data['tweet']=data['tweet'].apply(lambda x: \" \" .join(x.lower() for x in x.split() if x not in sw))  #remove stopwords"
   ]
  },
  {
   "cell_type": "code",
   "execution_count": 22,
   "id": "a038cb66-a802-4aa8-9d69-e507639524ba",
   "metadata": {},
   "outputs": [
    {
     "data": {
      "text/html": [
       "<div>\n",
       "<style scoped>\n",
       "    .dataframe tbody tr th:only-of-type {\n",
       "        vertical-align: middle;\n",
       "    }\n",
       "\n",
       "    .dataframe tbody tr th {\n",
       "        vertical-align: top;\n",
       "    }\n",
       "\n",
       "    .dataframe thead th {\n",
       "        text-align: right;\n",
       "    }\n",
       "</style>\n",
       "<table border=\"1\" class=\"dataframe\">\n",
       "  <thead>\n",
       "    <tr style=\"text-align: right;\">\n",
       "      <th></th>\n",
       "      <th>id</th>\n",
       "      <th>label</th>\n",
       "      <th>tweet</th>\n",
       "    </tr>\n",
       "  </thead>\n",
       "  <tbody>\n",
       "    <tr>\n",
       "      <th>0</th>\n",
       "      <td>1</td>\n",
       "      <td>0</td>\n",
       "      <td>fingerprint pregnancy test android apps beauti...</td>\n",
       "    </tr>\n",
       "    <tr>\n",
       "      <th>1</th>\n",
       "      <td>2</td>\n",
       "      <td>0</td>\n",
       "      <td>finally transparant silicon case thanks uncle ...</td>\n",
       "    </tr>\n",
       "    <tr>\n",
       "      <th>2</th>\n",
       "      <td>3</td>\n",
       "      <td>0</td>\n",
       "      <td>love would go talk makememories unplug relax i...</td>\n",
       "    </tr>\n",
       "    <tr>\n",
       "      <th>3</th>\n",
       "      <td>4</td>\n",
       "      <td>0</td>\n",
       "      <td>wired know george made way iphone cute daventr...</td>\n",
       "    </tr>\n",
       "    <tr>\n",
       "      <th>4</th>\n",
       "      <td>5</td>\n",
       "      <td>1</td>\n",
       "      <td>amazing service apple even talk question unles...</td>\n",
       "    </tr>\n",
       "  </tbody>\n",
       "</table>\n",
       "</div>"
      ],
      "text/plain": [
       "   id  label                                              tweet\n",
       "0   1      0  fingerprint pregnancy test android apps beauti...\n",
       "1   2      0  finally transparant silicon case thanks uncle ...\n",
       "2   3      0  love would go talk makememories unplug relax i...\n",
       "3   4      0  wired know george made way iphone cute daventr...\n",
       "4   5      1  amazing service apple even talk question unles..."
      ]
     },
     "execution_count": 22,
     "metadata": {},
     "output_type": "execute_result"
    }
   ],
   "source": [
    "data.head(5)"
   ]
  },
  {
   "cell_type": "code",
   "execution_count": 23,
   "id": "b8383c0c-94d5-414a-8575-89a0b3e681e7",
   "metadata": {},
   "outputs": [],
   "source": [
    "#remove stemming words -: create,creating,created,creates => create"
   ]
  },
  {
   "cell_type": "code",
   "execution_count": 24,
   "id": "535ec9ce-be1e-428c-8b6f-30917853f5d2",
   "metadata": {},
   "outputs": [],
   "source": [
    "from nltk.stem import PorterStemmer\n",
    "st=PorterStemmer()"
   ]
  },
  {
   "cell_type": "code",
   "execution_count": 25,
   "id": "63ecd487-0075-4e01-8ba9-3ac01aef56d0",
   "metadata": {},
   "outputs": [],
   "source": [
    "data['tweet']=data['tweet'].apply(lambda x: \" \" .join(st.stem(x) for x in x.split()))"
   ]
  },
  {
   "cell_type": "code",
   "execution_count": 26,
   "id": "29fc28f6-1a1c-49ea-b13b-0a71d4347636",
   "metadata": {},
   "outputs": [
    {
     "data": {
      "text/html": [
       "<div>\n",
       "<style scoped>\n",
       "    .dataframe tbody tr th:only-of-type {\n",
       "        vertical-align: middle;\n",
       "    }\n",
       "\n",
       "    .dataframe tbody tr th {\n",
       "        vertical-align: top;\n",
       "    }\n",
       "\n",
       "    .dataframe thead th {\n",
       "        text-align: right;\n",
       "    }\n",
       "</style>\n",
       "<table border=\"1\" class=\"dataframe\">\n",
       "  <thead>\n",
       "    <tr style=\"text-align: right;\">\n",
       "      <th></th>\n",
       "      <th>id</th>\n",
       "      <th>label</th>\n",
       "      <th>tweet</th>\n",
       "    </tr>\n",
       "  </thead>\n",
       "  <tbody>\n",
       "    <tr>\n",
       "      <th>0</th>\n",
       "      <td>1</td>\n",
       "      <td>0</td>\n",
       "      <td>fingerprint pregnanc test android app beauti c...</td>\n",
       "    </tr>\n",
       "    <tr>\n",
       "      <th>1</th>\n",
       "      <td>2</td>\n",
       "      <td>0</td>\n",
       "      <td>final transpar silicon case thank uncl yay son...</td>\n",
       "    </tr>\n",
       "    <tr>\n",
       "      <th>2</th>\n",
       "      <td>3</td>\n",
       "      <td>0</td>\n",
       "      <td>love would go talk makememori unplug relax iph...</td>\n",
       "    </tr>\n",
       "    <tr>\n",
       "      <th>3</th>\n",
       "      <td>4</td>\n",
       "      <td>0</td>\n",
       "      <td>wire know georg made way iphon cute daventri home</td>\n",
       "    </tr>\n",
       "    <tr>\n",
       "      <th>4</th>\n",
       "      <td>5</td>\n",
       "      <td>1</td>\n",
       "      <td>amaz servic appl even talk question unless pay...</td>\n",
       "    </tr>\n",
       "  </tbody>\n",
       "</table>\n",
       "</div>"
      ],
      "text/plain": [
       "   id  label                                              tweet\n",
       "0   1      0  fingerprint pregnanc test android app beauti c...\n",
       "1   2      0  final transpar silicon case thank uncl yay son...\n",
       "2   3      0  love would go talk makememori unplug relax iph...\n",
       "3   4      0  wire know georg made way iphon cute daventri home\n",
       "4   5      1  amaz servic appl even talk question unless pay..."
      ]
     },
     "execution_count": 26,
     "metadata": {},
     "output_type": "execute_result"
    }
   ],
   "source": [
    "data.head(5)"
   ]
  },
  {
   "cell_type": "markdown",
   "id": "e94e13ee-4b5e-4502-9721-63808f50894d",
   "metadata": {},
   "source": [
    "## Building a vocabulary based on the unique words in the tweets for vectorization"
   ]
  },
  {
   "cell_type": "code",
   "execution_count": 27,
   "id": "80ca6d25-30e5-4326-b6fd-7ad89f6f7160",
   "metadata": {},
   "outputs": [],
   "source": [
    "from collections import Counter\n",
    "vocab=Counter()"
   ]
  },
  {
   "cell_type": "code",
   "execution_count": 28,
   "id": "8d9c407f-42dd-445d-b8b2-750c3cb74541",
   "metadata": {},
   "outputs": [],
   "source": [
    "#get values for vocabulary\n",
    "\n",
    "for sentence in data['tweet']:\n",
    "    vocab.update(sentence.split())   #craete the vocabulary by word by word as features"
   ]
  },
  {
   "cell_type": "code",
   "execution_count": null,
   "id": "a7b6264a-2675-40a0-84a7-07a8f9b3b1ee",
   "metadata": {},
   "outputs": [],
   "source": [
    "vocab"
   ]
  },
  {
   "cell_type": "code",
   "execution_count": 30,
   "id": "3030f19a-8c0a-4f0e-a76e-f6583d2416a0",
   "metadata": {},
   "outputs": [
    {
     "data": {
      "text/plain": [
       "15863"
      ]
     },
     "execution_count": 30,
     "metadata": {},
     "output_type": "execute_result"
    }
   ],
   "source": [
    "len(vocab)"
   ]
  },
  {
   "cell_type": "code",
   "execution_count": 31,
   "id": "1f94a92c-4046-44d9-95d8-115f4a5f7a7f",
   "metadata": {},
   "outputs": [],
   "source": [
    "#Decrease the features by removing the count of the feature that has below 5 count then reduce the feature size"
   ]
  },
  {
   "cell_type": "code",
   "execution_count": 32,
   "id": "ec580828-49fb-4915-8bc2-07b9fd16fbd4",
   "metadata": {},
   "outputs": [
    {
     "data": {
      "text/plain": [
       "1923"
      ]
     },
     "execution_count": 32,
     "metadata": {},
     "output_type": "execute_result"
    }
   ],
   "source": [
    "token=[key for key in vocab if vocab[key]>5]\n",
    "len(token)"
   ]
  },
  {
   "cell_type": "code",
   "execution_count": 33,
   "id": "fd473ec5-faaf-48f0-ac0c-c567867f8f03",
   "metadata": {},
   "outputs": [],
   "source": [
    "#save vocabulary values as txt \n",
    "\n",
    "def save_voc(lines,filename):\n",
    "    data='\\n'.join(lines)\n",
    "    file=open(filename,'w',encoding='utf-8')\n",
    "    file.write(data)\n",
    "    file.close()\n",
    "\n",
    "\n",
    "save_voc(token,'../static/model/vocabulary.txt')"
   ]
  },
  {
   "cell_type": "code",
   "execution_count": 34,
   "id": "6b6164ea-2447-41e8-aca6-ab0bbc7455e3",
   "metadata": {},
   "outputs": [],
   "source": [
    "#split dataset into train and test\n",
    "\n",
    "x=data['tweet']\n",
    "y=data['label']\n",
    "\n",
    "from sklearn.model_selection import train_test_split\n",
    "x_train,x_test,y_train,y_test=train_test_split(x,y,train_size=0.8)"
   ]
  },
  {
   "cell_type": "markdown",
   "id": "a38241b3-2eb0-49a2-bfac-a686e1c239c9",
   "metadata": {},
   "source": [
    "## Vectorization"
   ]
  },
  {
   "cell_type": "code",
   "execution_count": 35,
   "id": "cb531d08-9583-4352-af1c-72c5bd6be248",
   "metadata": {},
   "outputs": [],
   "source": [
    "def vectorizer(dataset, vocabulary):\n",
    "    vectorized_lst=[]  #create empty list\n",
    "    for sentence in dataset:  #go sentence by sentence in x\n",
    "        sentence_lst=np.zeros(len(vocabulary))   #initialize the 0 list with respect to vocab size\n",
    "        for i in range(len(vocabulary)):    # go word by word in sentece in vocab size\n",
    "            if vocabulary[i] in sentence.split():  #if found vocab's word then replace 0 value by 1\n",
    "                sentence_lst[i] = 1\n",
    "        vectorized_lst.append(sentence_lst)   #append into another list as a list \n",
    "    vectorized_lst_new=np.asarray(vectorized_lst, dtype=np.float32)   #create fully completed list into np array\n",
    "    return vectorized_lst_new"
   ]
  },
  {
   "cell_type": "code",
   "execution_count": 36,
   "id": "d451d9ba-a9dd-44ac-8443-0af11af5536b",
   "metadata": {},
   "outputs": [],
   "source": [
    "vectorized_x_train=vectorizer(x_train,token)  #vectorize x-train values"
   ]
  },
  {
   "cell_type": "code",
   "execution_count": 37,
   "id": "7010f128-e3c5-4d06-8269-bbcd8aeabf27",
   "metadata": {},
   "outputs": [
    {
     "data": {
      "text/plain": [
       "array([[0., 0., 1., ..., 0., 0., 0.],\n",
       "       [0., 0., 0., ..., 0., 0., 0.],\n",
       "       [0., 0., 0., ..., 0., 0., 0.],\n",
       "       ...,\n",
       "       [0., 0., 0., ..., 0., 0., 0.],\n",
       "       [0., 0., 0., ..., 0., 0., 0.],\n",
       "       [0., 1., 0., ..., 0., 0., 0.]], shape=(6336, 1923), dtype=float32)"
      ]
     },
     "execution_count": 37,
     "metadata": {},
     "output_type": "execute_result"
    }
   ],
   "source": [
    "vectorized_x_train"
   ]
  },
  {
   "cell_type": "code",
   "execution_count": 38,
   "id": "5984fb49-14e8-470b-b49d-e2a6c51cf4dc",
   "metadata": {},
   "outputs": [],
   "source": [
    "vectorized_x_test=vectorizer(x_test,token)"
   ]
  },
  {
   "cell_type": "code",
   "execution_count": 39,
   "id": "611396ed-8599-4b00-bdeb-e55d64766a33",
   "metadata": {},
   "outputs": [
    {
     "data": {
      "text/plain": [
       "array([[0., 0., 0., ..., 0., 0., 0.],\n",
       "       [0., 1., 0., ..., 0., 0., 0.],\n",
       "       [0., 0., 0., ..., 0., 0., 0.],\n",
       "       ...,\n",
       "       [0., 0., 0., ..., 0., 0., 0.],\n",
       "       [0., 0., 0., ..., 0., 0., 0.],\n",
       "       [0., 0., 0., ..., 0., 0., 0.]], shape=(1584, 1923), dtype=float32)"
      ]
     },
     "execution_count": 39,
     "metadata": {},
     "output_type": "execute_result"
    }
   ],
   "source": [
    "vectorized_x_test"
   ]
  },
  {
   "cell_type": "code",
   "execution_count": 40,
   "id": "b1032073-50db-4531-877c-2ff24fe2b67f",
   "metadata": {},
   "outputs": [],
   "source": [
    "#check whether the classes are imbalanced or not"
   ]
  },
  {
   "cell_type": "code",
   "execution_count": 41,
   "id": "2a67f5fa-b76f-4ea1-894f-667393dfccf2",
   "metadata": {},
   "outputs": [
    {
     "data": {
      "text/plain": [
       "label\n",
       "0    4716\n",
       "1    1620\n",
       "Name: count, dtype: int64"
      ]
     },
     "execution_count": 41,
     "metadata": {},
     "output_type": "execute_result"
    }
   ],
   "source": [
    "y_train.value_counts()   # is imbalanced"
   ]
  },
  {
   "cell_type": "code",
   "execution_count": 42,
   "id": "2d4cb2de-0351-4eb5-84fb-b173cf7ea88f",
   "metadata": {},
   "outputs": [
    {
     "name": "stdout",
     "output_type": "stream",
     "text": [
      "Requirement already satisfied: imblearn in c:\\users\\user\\appdata\\local\\programs\\python\\python312\\lib\\site-packages (0.0)\n",
      "Requirement already satisfied: imbalanced-learn in c:\\users\\user\\appdata\\local\\programs\\python\\python312\\lib\\site-packages (from imblearn) (0.13.0)\n",
      "Requirement already satisfied: numpy<3,>=1.24.3 in c:\\users\\user\\appdata\\local\\programs\\python\\python312\\lib\\site-packages (from imbalanced-learn->imblearn) (2.2.0)\n",
      "Requirement already satisfied: scipy<2,>=1.10.1 in c:\\users\\user\\appdata\\local\\programs\\python\\python312\\lib\\site-packages (from imbalanced-learn->imblearn) (1.14.1)\n",
      "Requirement already satisfied: scikit-learn<2,>=1.3.2 in c:\\users\\user\\appdata\\local\\programs\\python\\python312\\lib\\site-packages (from imbalanced-learn->imblearn) (1.5.2)\n",
      "Requirement already satisfied: sklearn-compat<1,>=0.1 in c:\\users\\user\\appdata\\local\\programs\\python\\python312\\lib\\site-packages (from imbalanced-learn->imblearn) (0.1.3)\n",
      "Requirement already satisfied: joblib<2,>=1.1.1 in c:\\users\\user\\appdata\\local\\programs\\python\\python312\\lib\\site-packages (from imbalanced-learn->imblearn) (1.4.2)\n",
      "Requirement already satisfied: threadpoolctl<4,>=2.0.0 in c:\\users\\user\\appdata\\local\\programs\\python\\python312\\lib\\site-packages (from imbalanced-learn->imblearn) (3.5.0)\n"
     ]
    }
   ],
   "source": [
    "!pip install imblearn"
   ]
  },
  {
   "cell_type": "code",
   "execution_count": 43,
   "id": "205bd8ad-a727-4b1a-aa83-912a4a758650",
   "metadata": {},
   "outputs": [],
   "source": [
    "#Reduce Imbalanced\n",
    "\n",
    "from imblearn.over_sampling import SMOTE\n",
    "smote=SMOTE()\n",
    "vectorized_x_train_smote,y_train_smote=smote.fit_resample(vectorized_x_train,y_train)\n"
   ]
  },
  {
   "cell_type": "code",
   "execution_count": 44,
   "id": "61c93605-77aa-41ed-b37b-6c28d3019590",
   "metadata": {},
   "outputs": [
    {
     "data": {
      "text/plain": [
       "label\n",
       "0    4716\n",
       "1    4716\n",
       "Name: count, dtype: int64"
      ]
     },
     "execution_count": 44,
     "metadata": {},
     "output_type": "execute_result"
    }
   ],
   "source": [
    "y_train_smote.value_counts()"
   ]
  },
  {
   "cell_type": "markdown",
   "id": "a02d421c-72af-4631-92de-edabea7e8e46",
   "metadata": {},
   "source": [
    "# Model training and evaluate the model"
   ]
  },
  {
   "cell_type": "code",
   "execution_count": 45,
   "id": "8e18200f-8b5f-43f4-a439-b72d193ef619",
   "metadata": {},
   "outputs": [],
   "source": [
    "#Create functions for get accuracy values for trainig and testing  datasets"
   ]
  },
  {
   "cell_type": "code",
   "execution_count": 48,
   "id": "f58b0d0d-f6c2-4c51-83a0-a7f6b58208b9",
   "metadata": {},
   "outputs": [],
   "source": [
    "from sklearn.metrics import accuracy_score,f1_score,precision_score,recall_score\n",
    "\n",
    "def training_acc(y_act,y_pred):\n",
    "    acs=round(accuracy_score(y_act,y_pred),3)\n",
    "    f1=round(f1_score(y_act,y_pred),3)\n",
    "    prs=round(precision_score(y_act,y_pred),3)\n",
    "    res=round(recall_score(y_act,y_pred),3)\n",
    "\n",
    "    print(\"Training scores : \"+str(acs)+\"\\t\"+str(f1)+\"\\t\"+str(prs)+\"\\t\"+str(res))\n",
    "\n",
    "\n",
    "def testing_scores(y_act,y_pred):\n",
    "    acs=round(accuracy_score(y_act,y_pred),3)\n",
    "    f1=round(f1_score(y_act,y_pred),3)\n",
    "    prs=round(precision_score(y_act,y_pred),3)\n",
    "    res=round(recall_score(y_act,y_pred),3)\n",
    "\n",
    "    print(\"Testing scores : \"+str(acs)+\"\\t\"+str(f1)+\"\\t\"+str(prs)+\"\\t\"+str(res))"
   ]
  },
  {
   "cell_type": "code",
   "execution_count": 62,
   "id": "217e56b0-34eb-4fe0-b304-4a10ca1f0b31",
   "metadata": {},
   "outputs": [],
   "source": [
    "# Tune up to relevant hyper_parameters of a algorithm\n",
    "\n",
    "from sklearn.model_selection import GridSearchCV\n",
    "\n",
    "def getBestModel(model,param_list):\n",
    "    grid_obj=GridSearchCV(estimator=model,param_grid=param_list)\n",
    "    grid_fit=grid_obj.fit(vectorized_x_train_smote,y_train_smote)\n",
    "    \n",
    "    #get best parameters\n",
    "    best_model=grid_fit.best_estimator_\n",
    "    return best_model"
   ]
  },
  {
   "cell_type": "markdown",
   "id": "3e4e6caf-e3df-4091-acfe-58c9ab2125d8",
   "metadata": {},
   "source": [
    "## For Logistic Regression\n",
    "\n"
   ]
  },
  {
   "cell_type": "code",
   "execution_count": 70,
   "id": "e4f21b6b-2fef-4e0d-9caa-92413fb7f488",
   "metadata": {},
   "outputs": [
    {
     "name": "stdout",
     "output_type": "stream",
     "text": [
      "Training scores : 0.952\t0.953\t0.931\t0.976\n",
      "Testing scores : 0.881\t0.786\t0.727\t0.855\n"
     ]
    }
   ],
   "source": [
    "from sklearn.linear_model import LogisticRegression\n",
    "\n",
    "lr=LogisticRegression()\n",
    "\n",
    "\n",
    "lr.fit(vectorized_x_train_smote,y_train_smote)\n",
    "y_train_pred=lr.predict(vectorized_x_train_smote)\n",
    "y_test_pred=lr.predict(vectorized_x_test)\n",
    "\n",
    "training_acc(y_train_smote,y_train_pred)\n",
    "\n",
    "testing_scores(y_test,y_test_pred)\n"
   ]
  },
  {
   "cell_type": "markdown",
   "id": "fc82a192-4aeb-43ed-b812-924843e83cc1",
   "metadata": {},
   "source": [
    "## For Multinomial NaiveBase "
   ]
  },
  {
   "cell_type": "code",
   "execution_count": 64,
   "id": "9f38c4ca-76ea-48f7-a692-ef7badd47e70",
   "metadata": {},
   "outputs": [
    {
     "name": "stdout",
     "output_type": "stream",
     "text": [
      "Training scores : 0.912\t0.916\t0.873\t0.964\n",
      "Testing scores : 0.878\t0.796\t0.694\t0.933\n"
     ]
    }
   ],
   "source": [
    "from sklearn.naive_bayes import MultinomialNB\n",
    "\n",
    "mnv=MultinomialNB()\n",
    "mnv.fit(vectorized_x_train_smote,y_train_smote)\n",
    "y_train_pred=mnv.predict(vectorized_x_train_smote)\n",
    "y_test_pred=mnv.predict(vectorized_x_test)\n",
    "\n",
    "training_acc(y_train_smote,y_train_pred)\n",
    "\n",
    "testing_scores(y_test,y_test_pred)"
   ]
  },
  {
   "cell_type": "markdown",
   "id": "bf388191-9e2c-4a9f-84b8-38839eaaa751",
   "metadata": {},
   "source": [
    "## For DecisionTreeClassifier"
   ]
  },
  {
   "cell_type": "code",
   "execution_count": 66,
   "id": "111aac2f-65a7-4b94-af7b-a4de31b28c2e",
   "metadata": {},
   "outputs": [
    {
     "name": "stdout",
     "output_type": "stream",
     "text": [
      "Training scores : 1.0\t1.0\t1.0\t1.0\n",
      "Testing scores : 0.836\t0.672\t0.692\t0.653\n"
     ]
    }
   ],
   "source": [
    "from sklearn.tree import DecisionTreeClassifier\n",
    "\n",
    "dc=DecisionTreeClassifier()\n",
    "param_list={'criterion':['gini', 'entropy', 'log_loss'],\n",
    "            'splitter':['best', 'random']\n",
    "           }\n",
    "dc=getBestModel(dc,param_list)\n",
    "\n",
    "dc.fit(vectorized_x_train_smote,y_train_smote)\n",
    "y_train_pred=dc.predict(vectorized_x_train_smote)\n",
    "y_test_pred=dc.predict(vectorized_x_test)\n",
    "\n",
    "training_acc(y_train_smote,y_train_pred)\n",
    "\n",
    "testing_scores(y_test,y_test_pred)"
   ]
  },
  {
   "cell_type": "markdown",
   "id": "5543d39a-7b5d-4e93-9248-357c62df8a50",
   "metadata": {},
   "source": [
    "## For Random Forest Classifier"
   ]
  },
  {
   "cell_type": "code",
   "execution_count": 67,
   "id": "60ec7e08-5b25-4455-9990-ee7c41900dcf",
   "metadata": {},
   "outputs": [
    {
     "name": "stderr",
     "output_type": "stream",
     "text": [
      "C:\\Users\\User\\AppData\\Local\\Programs\\Python\\Python312\\Lib\\site-packages\\numpy\\ma\\core.py:2892: RuntimeWarning: invalid value encountered in cast\n",
      "  _data = np.array(data, dtype=dtype, copy=copy,\n"
     ]
    },
    {
     "name": "stdout",
     "output_type": "stream",
     "text": [
      "Training scores : 1.0\t1.0\t1.0\t1.0\n",
      "Testing scores : 0.879\t0.759\t0.778\t0.741\n"
     ]
    }
   ],
   "source": [
    "from sklearn.ensemble import RandomForestClassifier\n",
    "\n",
    "rfc=RandomForestClassifier()\n",
    "\n",
    "param_list={'criterion':['gini', 'entropy', 'log_loss'],\n",
    "            'class_weight':['balanced', 'balanced_subsample'],\n",
    "            'n_estimators':[10,30,50,75,100]\n",
    "           }\n",
    "rfc=getBestModel(rfc,param_list)\n",
    "\n",
    "\n",
    "rfc.fit(vectorized_x_train_smote,y_train_smote)\n",
    "y_train_pred=rfc.predict(vectorized_x_train_smote)\n",
    "y_test_pred=rfc.predict(vectorized_x_test)\n",
    "\n",
    "training_acc(y_train_smote,y_train_pred)\n",
    "\n",
    "testing_scores(y_test,y_test_pred)"
   ]
  },
  {
   "cell_type": "markdown",
   "id": "5de077c5-d3a4-44b9-a9d4-0950e2ca03d1",
   "metadata": {},
   "source": [
    "## For Support Vector Classifier"
   ]
  },
  {
   "cell_type": "code",
   "execution_count": 69,
   "id": "4ae159ff-db7a-49db-8dab-8eba1bc5b699",
   "metadata": {},
   "outputs": [
    {
     "name": "stdout",
     "output_type": "stream",
     "text": [
      "Training scores : 0.981\t0.982\t0.967\t0.997\n",
      "Testing scores : 0.893\t0.8\t0.766\t0.837\n"
     ]
    }
   ],
   "source": [
    "from sklearn.svm import SVC\n",
    "\n",
    "svc=SVC()\n",
    "\n",
    "svc.fit(vectorized_x_train_smote,y_train_smote)\n",
    "y_train_pred=svc.predict(vectorized_x_train_smote)\n",
    "y_test_pred=svc.predict(vectorized_x_test)\n",
    "\n",
    "training_acc(y_train_smote,y_train_pred)\n",
    "\n",
    "testing_scores(y_test,y_test_pred)"
   ]
  },
  {
   "cell_type": "markdown",
   "id": "998287ec-b52c-4050-b45c-de5e6c13a6f7",
   "metadata": {},
   "source": [
    "## Select Support Vector Classifier and go forward"
   ]
  },
  {
   "cell_type": "code",
   "execution_count": 72,
   "id": "abb6906f-c2ab-40d7-851e-a00b86c4af93",
   "metadata": {},
   "outputs": [],
   "source": [
    "#save model\n",
    "import pickle\n",
    "\n",
    "with open('../static/model/model.pickle','wb') as model:\n",
    "    pickle.dump(svc,model)"
   ]
  },
  {
   "cell_type": "code",
   "execution_count": null,
   "id": "0c30b532-91cd-4266-8e95-eda0d568c707",
   "metadata": {},
   "outputs": [],
   "source": []
  }
 ],
 "metadata": {
  "kernelspec": {
   "display_name": "Python 3 (ipykernel)",
   "language": "python",
   "name": "python3"
  },
  "language_info": {
   "codemirror_mode": {
    "name": "ipython",
    "version": 3
   },
   "file_extension": ".py",
   "mimetype": "text/x-python",
   "name": "python",
   "nbconvert_exporter": "python",
   "pygments_lexer": "ipython3",
   "version": "3.12.4"
  }
 },
 "nbformat": 4,
 "nbformat_minor": 5
}
