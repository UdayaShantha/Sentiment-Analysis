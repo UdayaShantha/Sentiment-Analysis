{
 "cells": [
  {
   "cell_type": "code",
   "execution_count": 14,
   "id": "6b87c0a1-a973-4cc6-8915-ad8cb1d30661",
   "metadata": {},
   "outputs": [],
   "source": [
    "import numpy as np\n",
    "import pandas as pd\n",
    "import re    #Regular expression library\n",
    "import string\n",
    "import nltk\n",
    "from collections import Counter\n",
    "vocab=Counter()\n",
    "import pickle"
   ]
  },
  {
   "cell_type": "markdown",
   "id": "f012f9ba-45e9-4890-ae1f-fad3376f70d2",
   "metadata": {},
   "source": [
    "## Text Preprocessing"
   ]
  },
  {
   "cell_type": "code",
   "execution_count": 5,
   "id": "4a41a07f-246a-473f-918d-41919cd8c388",
   "metadata": {},
   "outputs": [],
   "source": [
    "def removePunc(text):\n",
    "    for punc in string.punctuation:\n",
    "        text=text.replace(punc,' ')\n",
    "    return text"
   ]
  },
  {
   "cell_type": "code",
   "execution_count": 6,
   "id": "201c0277-597c-4f08-a7a1-11c32f57dbd0",
   "metadata": {},
   "outputs": [],
   "source": [
    "with open('../static/model/corpora/stopwords/english','r') as stp:  #get stopwords into a list\n",
    "    sw=stp.read().splitlines()"
   ]
  },
  {
   "cell_type": "code",
   "execution_count": 7,
   "id": "6cbef178-8f76-4742-942f-130b0efde3f3",
   "metadata": {},
   "outputs": [],
   "source": [
    "from nltk.stem import PorterStemmer\n",
    "st=PorterStemmer()"
   ]
  },
  {
   "cell_type": "code",
   "execution_count": 11,
   "id": "e778ce94-7d3a-47ee-b065-3188000b8993",
   "metadata": {},
   "outputs": [
    {
     "name": "stderr",
     "output_type": "stream",
     "text": [
      "<>:6: SyntaxWarning: invalid escape sequence '\\d'\n",
      "<>:6: SyntaxWarning: invalid escape sequence '\\d'\n",
      "C:\\Users\\User\\AppData\\Local\\Temp\\ipykernel_15604\\361471222.py:6: SyntaxWarning: invalid escape sequence '\\d'\n",
      "  data['tweet'] = data['tweet'].str.replace('\\d+','',regex=True)\n"
     ]
    }
   ],
   "source": [
    "def textPreprocessing(txt):\n",
    "    data=pd.DataFrame([txt],columns=['tweet'])    \n",
    "    data['tweet']=data['tweet'].apply(lambda x: \" \" .join(x.lower() for x in x.split()))\n",
    "    data['tweet'] = data['tweet'].apply(lambda x: \" \".join(re.sub(r'https?://\\S+', '', word) for word in x.split()))\n",
    "    data['tweet'] = data['tweet'].apply(removePunc)\n",
    "    data['tweet'] = data['tweet'].str.replace('\\d+','',regex=True)\n",
    "    data['tweet']=data['tweet'].apply(lambda x: \" \" .join(x.lower() for x in x.split() if x not in sw)) \n",
    "    data['tweet']=data['tweet'].apply(lambda x: \" \" .join(st.stem(x) for x in x.split()))\n",
    "\n",
    "    return data['tweet']"
   ]
  },
  {
   "cell_type": "code",
   "execution_count": 12,
   "id": "bd0e3eb5-baf7-4498-b783-463774333f9f",
   "metadata": {},
   "outputs": [
    {
     "data": {
      "text/plain": [
       "0    good product like\n",
       "Name: tweet, dtype: object"
      ]
     },
     "execution_count": 12,
     "metadata": {},
     "output_type": "execute_result"
    }
   ],
   "source": [
    "txt=\" Good product , I like it\"\n",
    "textPreprocessing(txt)"
   ]
  },
  {
   "cell_type": "code",
   "execution_count": 15,
   "id": "c618d7bd-198f-438a-83af-667345d0f8e8",
   "metadata": {},
   "outputs": [],
   "source": [
    "#Load model\n",
    "\n",
    "with open('../static/model/model.pickle','rb') as model:\n",
    "    model=pickle.load(model)"
   ]
  },
  {
   "cell_type": "code",
   "execution_count": 16,
   "id": "82198062-4b98-40ee-aa93-5017ac296e10",
   "metadata": {},
   "outputs": [],
   "source": [
    "#Get vocabulary\n",
    "\n",
    "vocab=pd.read_csv('../static/model/vocabulary.txt',header=None)\n",
    "token=vocab[0].tolist()"
   ]
  },
  {
   "cell_type": "code",
   "execution_count": 17,
   "id": "16189086-32ae-4192-9a22-aa68ead85e1e",
   "metadata": {},
   "outputs": [],
   "source": [
    "def vectorizer(dataset, vocabulary):\n",
    "    vectorized_lst=[]  #create empty list\n",
    "    for sentence in dataset:  #go sentence by sentence in x\n",
    "        sentence_lst=np.zeros(len(vocabulary))   #initialize the 0 list with respect to vocab size\n",
    "        for i in range(len(vocabulary)):    # go word by word in sentece in vocab size\n",
    "            if vocabulary[i] in sentence.split():  #if found vocab's word then replace 0 value by 1\n",
    "                sentence_lst[i] = 1\n",
    "        vectorized_lst.append(sentence_lst)   #append into another list as a list \n",
    "    vectorized_lst_new=np.asarray(vectorized_lst, dtype=np.float32)   #create fully completed list into np array\n",
    "    return vectorized_lst_new"
   ]
  },
  {
   "cell_type": "code",
   "execution_count": 24,
   "id": "06b43541-a2e1-4e9d-b795-bc201fa1db23",
   "metadata": {},
   "outputs": [
    {
     "data": {
      "text/plain": [
       "'Positive'"
      ]
     },
     "execution_count": 24,
     "metadata": {},
     "output_type": "execute_result"
    }
   ],
   "source": [
    "txt=\"very Good product, nice and awesome\"\n",
    "preprocessed_txt=textPreprocessing(txt)\n",
    "vectorized_txt=vectorizer(preprocessed_txt,token)\n",
    "pred=getPrediction(vectorized_txt)\n",
    "pred"
   ]
  },
  {
   "cell_type": "code",
   "execution_count": 26,
   "id": "a94e4608-1728-463c-b343-003b2d3260da",
   "metadata": {},
   "outputs": [],
   "source": [
    "def getPrediction(vectorized_txt):\n",
    "    pred=model.predict(vectorized_txt)\n",
    "    if pred==0:\n",
    "        return \"Positive\"\n",
    "    else:\n",
    "        return \"Negative\"\n",
    "    "
   ]
  },
  {
   "cell_type": "code",
   "execution_count": null,
   "id": "a7e3229b-22b8-45fd-aa10-12d801eec50d",
   "metadata": {},
   "outputs": [],
   "source": []
  }
 ],
 "metadata": {
  "kernelspec": {
   "display_name": "Python 3 (ipykernel)",
   "language": "python",
   "name": "python3"
  },
  "language_info": {
   "codemirror_mode": {
    "name": "ipython",
    "version": 3
   },
   "file_extension": ".py",
   "mimetype": "text/x-python",
   "name": "python",
   "nbconvert_exporter": "python",
   "pygments_lexer": "ipython3",
   "version": "3.12.4"
  }
 },
 "nbformat": 4,
 "nbformat_minor": 5
}
